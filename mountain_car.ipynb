{
 "cells": [
  {
   "cell_type": "markdown",
   "id": "c995bb44-07b4-4e58-b911-2b5a6e43fe12",
   "metadata": {},
   "source": [
    "### imports"
   ]
  },
  {
   "cell_type": "code",
   "execution_count": 61,
   "id": "048fe5b2-f6bc-4af0-a325-2147ff895bd2",
   "metadata": {
    "execution": {
     "iopub.execute_input": "2024-04-18T11:45:37.753529Z",
     "iopub.status.busy": "2024-04-18T11:45:37.752717Z",
     "iopub.status.idle": "2024-04-18T11:45:37.767829Z",
     "shell.execute_reply": "2024-04-18T11:45:37.765684Z",
     "shell.execute_reply.started": "2024-04-18T11:45:37.753447Z"
    },
    "tags": []
   },
   "outputs": [],
   "source": [
    "import torch as T\n",
    "import torch.nn as nn\n",
    "import torch.nn.functional as F\n",
    "import torch.optim as optim\n",
    "import numpy as np\n",
    "import gymnasium as gym\n",
    "import matplotlib.pyplot as plt\n",
    "import random"
   ]
  },
  {
   "cell_type": "markdown",
   "id": "6bfb2d78-d2be-4d3b-b025-f4567fddfaed",
   "metadata": {},
   "source": [
    "## First steps"
   ]
  },
  {
   "cell_type": "code",
   "execution_count": 62,
   "id": "e222b78b-af1b-4111-be8f-91218b45c8b5",
   "metadata": {
    "execution": {
     "iopub.execute_input": "2024-04-18T11:45:38.568046Z",
     "iopub.status.busy": "2024-04-18T11:45:38.567197Z",
     "iopub.status.idle": "2024-04-18T11:45:38.582272Z",
     "shell.execute_reply": "2024-04-18T11:45:38.579917Z",
     "shell.execute_reply.started": "2024-04-18T11:45:38.567981Z"
    },
    "tags": []
   },
   "outputs": [],
   "source": [
    "env = gym.make('MountainCar-v0')"
   ]
  },
  {
   "cell_type": "code",
   "execution_count": 63,
   "id": "55a29456-3268-4afb-860a-a44b27b911ee",
   "metadata": {
    "execution": {
     "iopub.execute_input": "2024-04-18T11:45:38.913087Z",
     "iopub.status.busy": "2024-04-18T11:45:38.912297Z",
     "iopub.status.idle": "2024-04-18T11:45:38.924442Z",
     "shell.execute_reply": "2024-04-18T11:45:38.921824Z",
     "shell.execute_reply.started": "2024-04-18T11:45:38.913021Z"
    },
    "tags": []
   },
   "outputs": [],
   "source": [
    "state_size = env.observation_space.shape[0]"
   ]
  },
  {
   "cell_type": "code",
   "execution_count": 64,
   "id": "9436d2a1-7221-4e69-9581-6d7d793bd2c6",
   "metadata": {
    "execution": {
     "iopub.execute_input": "2024-04-18T11:45:39.336079Z",
     "iopub.status.busy": "2024-04-18T11:45:39.335294Z",
     "iopub.status.idle": "2024-04-18T11:45:39.347163Z",
     "shell.execute_reply": "2024-04-18T11:45:39.344160Z",
     "shell.execute_reply.started": "2024-04-18T11:45:39.336016Z"
    },
    "tags": []
   },
   "outputs": [],
   "source": [
    "action_size = env.action_space.n"
   ]
  },
  {
   "cell_type": "markdown",
   "id": "055b37bb-abfb-400d-9bca-6d07cf988728",
   "metadata": {},
   "source": [
    "### Defining the random agent"
   ]
  },
  {
   "cell_type": "code",
   "execution_count": 65,
   "id": "ee37face-643a-40bf-b96b-5659f153bdd7",
   "metadata": {
    "execution": {
     "iopub.execute_input": "2024-04-18T11:45:40.051794Z",
     "iopub.status.busy": "2024-04-18T11:45:40.050238Z",
     "iopub.status.idle": "2024-04-18T11:45:40.065046Z",
     "shell.execute_reply": "2024-04-18T11:45:40.062921Z",
     "shell.execute_reply.started": "2024-04-18T11:45:40.051723Z"
    },
    "tags": []
   },
   "outputs": [],
   "source": [
    "class RandomAgent :\n",
    "    \n",
    "    def __init__(self, state_size, action_size):\n",
    "        self.action_size = action_size\n",
    "        self.state_size = state_size\n",
    "    \n",
    "    def observe(self, state, action, next_state, reward):\n",
    "        # For a random agent, we don't do anything with observations.\n",
    "        pass\n",
    "\n",
    "    def select_action(self, state):\n",
    "        # Randomly choose an action from the action space.\n",
    "        return env.action_space.sample()\n",
    "\n",
    "    def update(self):\n",
    "        # No update needed for a random agent.\n",
    "        pass\n"
   ]
  },
  {
   "cell_type": "code",
   "execution_count": 66,
   "id": "bfc8b678-7890-4ef6-bafd-e24260555c51",
   "metadata": {
    "execution": {
     "iopub.execute_input": "2024-04-18T11:45:40.247388Z",
     "iopub.status.busy": "2024-04-18T11:45:40.245452Z",
     "iopub.status.idle": "2024-04-18T11:45:40.256219Z",
     "shell.execute_reply": "2024-04-18T11:45:40.253986Z",
     "shell.execute_reply.started": "2024-04-18T11:45:40.247320Z"
    },
    "tags": []
   },
   "outputs": [],
   "source": [
    "random_agent = RandomAgent(state_size, action_size)"
   ]
  },
  {
   "cell_type": "code",
   "execution_count": 67,
   "id": "f818452b-f29d-4d69-98f4-8ecc55a69d66",
   "metadata": {
    "execution": {
     "iopub.execute_input": "2024-04-18T11:45:40.486821Z",
     "iopub.status.busy": "2024-04-18T11:45:40.486047Z",
     "iopub.status.idle": "2024-04-18T11:45:41.769415Z",
     "shell.execute_reply": "2024-04-18T11:45:41.768264Z",
     "shell.execute_reply.started": "2024-04-18T11:45:40.486757Z"
    },
    "tags": []
   },
   "outputs": [
    {
     "data": {
      "image/png": "[encoded data removed]",
      "text/plain": [
       "<Figure size 640x480 with 1 Axes>"
      ]
     },
     "metadata": {},
     "output_type": "display_data"
    }
   ],
   "source": [
    "# Prepare to store episode durations\n",
    "episode_durations = []\n",
    "\n",
    "for e in range(100):\n",
    "    done = False\n",
    "    random_seed = random.randint(1, 100000)\n",
    "    state, _ = env.reset(seed = random_seed)\n",
    "    episode_reward = 0\n",
    "\n",
    "    while not done:\n",
    "        action = random_agent.select_action(state)\n",
    "        next_state, reward, terminated, truncated, _ = env.step(action)\n",
    "\n",
    "        episode_reward += reward\n",
    "\n",
    "        state = next_state\n",
    "        done = terminated or truncated\n",
    "\n",
    "    duration = -episode_reward\n",
    "    episode_durations.append(duration)\n",
    "\n",
    "plt.scatter(range(100), episode_durations, color='blue')\n",
    "plt.title(\"Duration of Each Episode\")\n",
    "plt.xlabel(\"Episode Number\")\n",
    "plt.ylabel(\"Duration (number of steps)\")\n",
    "plt.show()    "
   ]
  },
  {
   "cell_type": "markdown",
   "id": "9af439ab-c8cb-4109-8789-d520d48efff4",
   "metadata": {},
   "source": [
    "#### Comments :"
   ]
  },
  {
   "cell_type": "markdown",
   "id": "3fba7af7-b054-459b-a3bf-b1b34a0b9f47",
   "metadata": {},
   "source": [
    "We can see given the scatter plot that the random agent performs very poorly, playing the maximum numbers of steps at each game and not solving the problem at all."
   ]
  },
  {
   "cell_type": "markdown",
   "id": "b2f7b72d-40f8-4259-82d9-8e42169a7247",
   "metadata": {},
   "source": [
    "### Defining the deep network's structure"
   ]
  },
  {
   "cell_type": "code",
   "execution_count": null,
   "id": "a7d2fe74-05be-4f7e-ab3d-ee3edab5378c",
   "metadata": {
    "tags": []
   },
   "outputs": [],
   "source": [
    "class DeepQNetwork(nn.Module):\n",
    "    def __init__(self, lr, input_dims, fc1_dims, fc2_dims, n_actions):\n",
    "        super(DeepQNetwork, self).__init__()\n",
    "        self.input_dims = input_dims\n",
    "        self.fc1_dims = fc1_dims\n",
    "        self.fc2_dims = fc2_dims\n",
    "        self.n_actions = n_actions\n",
    "        self.fc1 = nn.Linear(*self.input_dims, self.fc1_dims)\n",
    "        self.fc2 = nn.Linear(self.fc1_dims, self.fc1_dims)\n",
    "        self.fc3 = nn.Linear(self.fc2_dims, self.n_actions)\n",
    "        self.optimizer = optim.Adam(self.parameters(), lr= lr)\n",
    "        self.loss = nn.MSELoss()\n",
    "        self.device = T.device('cuda:0' if T.cuda.is_available() else 'cpu')\n",
    "        self.to(self.device)\n",
    "     \n",
    "    def forward(self, state):\n",
    "        x = F.relu(self.fc1(state))\n",
    "        x = F.relu(self.fc2(x))\n",
    "        actions = self.fc3(x)\n",
    "        \n",
    "        return actions\n",
    "    "
   ]
  },
  {
   "cell_type": "markdown",
   "id": "cebf4bef-6086-4326-8bbb-632ab70c0614",
   "metadata": {},
   "source": [
    "### Defining the Agent\n"
   ]
  },
  {
   "cell_type": "code",
   "execution_count": null,
   "id": "0a8c1ee1-9a75-4414-94ec-c19ec0bbbf5d",
   "metadata": {
    "tags": []
   },
   "outputs": [],
   "source": [
    "class Agent():\n",
    "    def __init__(self, gamma, epsilon, lr, input_dims, batch_size, n_actions, max_mem_size = 10000, eps_end = 0.05, eps_dec = 5e-4):\n",
    "        self.gamma = gamma\n",
    "        self.epsilon = epsilon\n",
    "        self.eps_min = eps_end\n",
    "        self.eps_dec = eps_dec\n",
    "        self.lr = lr\n",
    "        self.action_space = [i for i in range(n_actions)]\n",
    "        self.mem_size = max_mem_size\n",
    "        self.batch_size = batch_size\n",
    "        self.mem_cntr = 0\n",
    "        \n",
    "        self.Q_eval = DeepQNetwork(self.lr, n_actions = n_actions, input_dims = input_dims, fc1_dims = 64, fc2_dims = 64)\n",
    "        \n",
    "        self.state_memory = np.zeros((self.mem_size, *input_dims), dtype = np.float32)\n",
    "        self.new_state_memory = np.zeros((self.mem_size, *input_dims), dtype = np.float32)\n",
    "        self.action_memory = np.zeros(self.mem_size, dtype = np.int32)\n",
    "        self.reward_memory = np.zeros(self.mem_size, dtype = np.float32)\n",
    "        self.terminal_memory = np.zeros(self.mem_size, dtype= np.bool_)\n",
    "        \n",
    "    def observe(self, state, action, reward, state_, done):\n",
    "        index = self.mem_cntr % self.mem_size\n",
    "        self.state_memory[index] = state\n",
    "        self.new_state_memory[index] = state_\n",
    "        self.reward_memory[index] = reward\n",
    "        self.action_memory[index] = action\n",
    "        self.terminal_memory[index] = done\n",
    "        \n",
    "        self.mem_cntr +=1\n",
    "\n",
    "    def choose_action(self,observation):\n",
    "        if np.random.random() > self.epsilon:\n",
    "            state = T.tensor([observation]).to(self.Q_eval.device)\n",
    "            actions = self.Q_eval.forward(state)\n",
    "            action = T.argmax(actions).item()\n",
    "        else:\n",
    "            action = np.random.choice(self.action_space)\n",
    "            \n",
    "        return action\n",
    "    \n",
    "    def learn(self):\n",
    "        if self.mem_cntr < self.batch_size:\n",
    "            return\n",
    "        \n",
    "        self.Q_eval.optimizer.zero_grad()\n",
    "        \n",
    "        max_mem = min(self.mem_cntr, self.mem_size)\n",
    "        batch = np.random.choice(max_mem, self.batch_size, replace = False)\n",
    "        \n",
    "        batch_index = np.arange(self.batch_size, dtype = np.int32)\n",
    "        \n",
    "        state_batch = T.tensor(self.state_memory[batch]).to(self.Q_eval.device)\n",
    "        new_state_batch = T.tensor(self.new_state_memory[batch]).to(self.Q_eval.device)\n",
    "        reward_batch = T.tensor(self.reward_memory[batch]).to(self.Q_eval.device)\n",
    "        terminal_batch = T.tensor(self.terminal_memory[batch]).to(self.Q_eval.device)\n",
    "        \n",
    "        action_batch = self.action_memory[batch]\n",
    "        \n",
    "        q_eval = self.Q_eval.forward(state_batch)[batch_index, action_batch]\n",
    "        q_next = self.Q_eval.forward(new_state_batch)\n",
    "        q_next[terminal_batch] = 0.0\n",
    "        \n",
    "        q_target = reward_batch + self.gamma * T.max(q_next, dim=1)[0]\n",
    "        \n",
    "        loss = self.Q_eval.loss(q_target, q_eval).to(self.Q_eval.device)\n",
    "        loss.backward()\n",
    "        self.Q_eval.optimizer.step()\n",
    "        \n",
    "        self.epsilon = self.epsilon - self.eps_dec if self.epsilon > self.eps_min else self.eps_min"
   ]
  },
  {
   "cell_type": "markdown",
   "id": "98341d87-8fa8-4fd8-bcdc-2a3ad3be794a",
   "metadata": {},
   "source": [
    "### Main loop"
   ]
  },
  {
   "cell_type": "code",
   "execution_count": null,
   "id": "d11b3852-4631-482b-81a2-d1e8289b2282",
   "metadata": {
    "tags": []
   },
   "outputs": [],
   "source": [
    "def plot_learning_curve(x, scores, epsilons, filename):\n",
    "    fig = plt.figure()\n",
    "    ax = fig.add_subplot(111, label=\"1\")\n",
    "    ax2 = fig.add_subplot(111, label=\"2\", frame_on=False)\n",
    "\n",
    "    ax.plot(x, epsilons, color=\"C0\")\n",
    "    ax.set_xlabel(\"Training Steps\", color=\"C0\")\n",
    "    ax.set_ylabel(\"Epsilon\", color=\"C0\")\n",
    "    ax.tick_params(axis='x', colors=\"C0\")\n",
    "    ax.tick_params(axis='y', colors=\"C0\")\n",
    "\n",
    "    N = len(scores)\n",
    "    running_avg = np.empty(N)\n",
    "    for t in range(N):\n",
    "        running_avg[t] = np.mean(scores[max(0, t-100):(t+1)])\n",
    "\n",
    "    ax2.scatter(x, running_avg, color=\"C1\")\n",
    "    ax2.axes.get_xaxis().set_visible(False)\n",
    "    ax2.yaxis.tick_right()\n",
    "    ax2.set_ylabel('Score', color=\"C1\")\n",
    "    ax2.yaxis.set_label_position('right')\n",
    "    ax2.tick_params(axis='y', colors=\"C1\")\n",
    "\n",
    "    plt.savefig(filename)"
   ]
  },
  {
   "cell_type": "code",
   "execution_count": null,
   "id": "6c7c870a-2ec8-40cd-94db-486146c8b789",
   "metadata": {
    "tags": []
   },
   "outputs": [],
   "source": [
    "env = gym.make('MountainCar-v0')\n",
    "agent = Agent(gamma = 0.99, epsilon = 0.9, batch_size = 64, n_actions = 3, eps_end = 0.05, input_dims = [2], lr = 0.003)\n",
    "scores, eps_history = [], []\n",
    "n_games = 1000\n",
    "\n",
    "for i in range(n_games):\n",
    "    score = 0\n",
    "    done = False\n",
    "    observation, _ = env.reset() # peut etre changer en observation, _ = \n",
    "    while not done : \n",
    "        action = agent.choose_action(observation)\n",
    "        observation_, reward, terminated, truncated, _ = env.step(action)\n",
    "        score += reward\n",
    "        done = terminated or truncated\n",
    "        agent.observe(observation, action, reward, observation_, done)\n",
    "        agent.learn()\n",
    "        obersation = observation_\n",
    "    scores.append(score)\n",
    "    eps_history.append(agent.epsilon)\n",
    "    \n",
    "    avg_score = np.mean(scores[-100:])\n",
    "    \n",
    "    print('episode ', i, 'score %.2f' % score, 'average score %.2f' % avg_score, 'epsilon %.2f' % agent.epsilon)\n",
    "    \n",
    "    #x = [i+1 for i in range(n_games)]\n",
    "    #filename = 'mountain_car.png'\n",
    "    #plot_learning_curve(x, scores, eps_history, filename)\n",
    "\n"
   ]
  },
  {
   "cell_type": "markdown",
   "id": "e32371fb-317e-4898-92be-26b78326e08b",
   "metadata": {},
   "source": [
    "#### Comments :"
   ]
  },
  {
   "cell_type": "markdown",
   "id": "30d376b5-0629-4a2d-8d4d-12b83af48e9c",
   "metadata": {},
   "source": [
    "We see that even after a 1000 episodes of training the agent doesn't solve the task. This is due to the main challenge of the task which is the sparsity of the reward."
   ]
  },
  {
   "cell_type": "code",
   "execution_count": null,
   "id": "0d83f3fb-6f78-4dfe-8230-a2010cf5e37e",
   "metadata": {},
   "outputs": [],
   "source": []
  }
 ],
 "metadata": {
  "kernelspec": {
   "display_name": "Python3",
   "language": "python",
   "name": "python3"
  },
  "language_info": {
   "codemirror_mode": {
    "name": "ipython",
    "version": 3
   },
   "file_extension": ".py",
   "mimetype": "text/x-python",
   "name": "python",
   "nbconvert_exporter": "python",
   "pygments_lexer": "ipython3",
   "version": "3.11.5"
  }
 },
 "nbformat": 4,
 "nbformat_minor": 5
}
